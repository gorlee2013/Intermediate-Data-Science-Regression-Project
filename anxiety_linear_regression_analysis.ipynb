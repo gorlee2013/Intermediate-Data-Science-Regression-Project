{
  "nbformat": 4,
  "nbformat_minor": 5,
  "metadata": {
    "colab": {
      "provenance": []
    },
    "language_info": {
      "name": "python"
    },
    "kernelspec": {
      "name": "python3",
      "display_name": "Python 3"
    }
  },
  "cells": [
    {
      "id": "a55d7060",
      "cell_type": "code",
      "metadata": {
        "id": "a55d7060"
      },
      "execution_count": null,
      "source": [
        "import pandas as pd\n",
        "import numpy as np\n",
        "import seaborn as sns\n",
        "import matplotlib.pyplot as plt\n",
        "from sklearn.model_selection import train_test_split\n",
        "from sklearn.linear_model import LinearRegression\n",
        "from sklearn.metrics import mean_absolute_error, mean_squared_error, r2_score\n",
        "from sklearn.preprocessing import StandardScaler"
      ],
      "outputs": []
    },
    {
      "cell_type": "code",
      "source": [
        "# Load Dataset\n",
        "df = pd.read_csv(\"enhanced_anxiety_dataset.csv\"\n"
      ],
      "metadata": {
        "id": "_wCSz1NKoknd"
      },
      "id": "_wCSz1NKoknd",
      "execution_count": null,
      "outputs": []
    },
    {
      "cell_type": "code",
      "source": [
        "# Separate features and target\n",
        "X = df.drop(columns=[\"Anxiety Level (1-10)\"])\n",
        "y = df[\"Anxiety Level (1-10)\"]"
      ],
      "metadata": {
        "id": "9kRo5OT1omp-"
      },
      "id": "9kRo5OT1omp-",
      "execution_count": null,
      "outputs": []
    },
    {
      "id": "89ba1f48",
      "cell_type": "code",
      "metadata": {
        "id": "89ba1f48"
      },
      "execution_count": null,
      "source": [
        "# Train-test split\n",
        "X_train, X_test, y_train, y_test = train_test_split(X, y, test_size=0.2, random_state=42)"
      ],
      "outputs": []
    },
    {
      "cell_type": "markdown",
      "source": [],
      "metadata": {
        "id": "Ii-9Xpu1om_0"
      },
      "id": "Ii-9Xpu1om_0"
    },
    {
      "id": "716ed5e2",
      "cell_type": "code",
      "metadata": {
        "id": "716ed5e2"
      },
      "execution_count": null,
      "source": [
        "# Feature scaling\n",
        "scaler = StandardScaler()\n",
        "X_train_scaled = scaler.fit_transform(X_train)\n",
        "X_test_scaled = scaler.transform(X_test)"
      ],
      "outputs": []
    },
    {
      "id": "45d1c0c4",
      "cell_type": "code",
      "metadata": {
        "id": "45d1c0c4"
      },
      "execution_count": null,
      "source": [
        "# Train Linear Regression model\n",
        "model = LinearRegression()\n",
        "model.fit(X_train_scaled, y_train)"
      ],
      "outputs": []
    },
    {
      "id": "5c8945a5",
      "cell_type": "code",
      "metadata": {
        "id": "5c8945a5"
      },
      "execution_count": null,
      "source": [
        "# Predict on test set\n",
        "y_pred = model.predict(X_test_scaled)"
      ],
      "outputs": []
    },
    {
      "id": "3e5f9dba",
      "cell_type": "code",
      "metadata": {
        "id": "3e5f9dba"
      },
      "execution_count": null,
      "source": [
        "# Evaluate model\n",
        "mae = mean_absolute_error(y_test, y_pred)\n",
        "rmse = np.sqrt(mean_squared_error(y_test, y_pred))\n",
        "r2 = r2_score(y_test, y_pred)\n",
        "\n",
        "# Print results\n",
        "print(f\"Mean Absolute Error (MAE): {mae:.3f}\")\n",
        "print(f\"Root Mean Squared Error (RMSE): {rmse:.3f}\")\n",
        "print(f\"R² Score: {r2:.3f}\")"
      ],
      "outputs": []
    },
    {
      "id": "0f24ea9e",
      "cell_type": "code",
      "metadata": {
        "id": "0f24ea9e"
      },
      "execution_count": null,
      "source": [
        "# Get intercept and coefficients\n",
        "intercept = model.intercept_\n",
        "coefficients = model.coef_\n",
        "feature_names = X.columns\n",
        "\n",
        "# Print the equation\n",
        "equation = f\"Anxiety_Level = {intercept:.3f}\"\n",
        "for name, coef in zip(feature_names, coefficients):\n",
        "    equation += f\" + ({coef:.3f} * {name})\"\n",
        "print(equation)"
      ],
      "outputs": []
    },
    {
      "id": "e4bd5499",
      "cell_type": "code",
      "metadata": {
        "id": "e4bd5499"
      },
      "execution_count": null,
      "source": [
        "# Visualization (effect of Sleep Hours)\n",
        "feature = \"Sleep Hours\"\n",
        "feature_idx = list(X.columns).index(feature)\n",
        "X_mean = X_train_scaled.mean(axis=0)\n",
        "\n",
        "# Generate a range for the feature\n",
        "x_vals = np.linspace(X_train_scaled[:, feature_idx].min(), X_train_scaled[:, feature_idx].max(), 100)\n",
        "X_temp = np.tile(X_mean, (100, 1))\n",
        "X_temp[:, feature_idx] = x_vals\n",
        "y_vals = model.predict(X_temp)\n",
        "\n",
        "plt.plot(x_vals, y_vals)\n",
        "plt.xlabel(feature + \" (scaled)\")\n",
        "plt.ylabel(\"Predicted Anxiety Level\")\n",
        "plt.title(f\"Effect of {feature} on Anxiety Level (linear regression)\")\n",
        "plt.show()"
      ],
      "outputs": []
    },
    {
      "id": "bc0c3bb3",
      "cell_type": "code",
      "metadata": {
        "id": "bc0c3bb3"
      },
      "execution_count": null,
      "source": [
        "# Bar Graph of Coefficients\n",
        "coef_df = pd.DataFrame({\n",
        "    'Feature': X.columns,\n",
        "    'Coefficient': model.coef_\n",
        "}).sort_values(by='Coefficient')\n",
        "\n",
        "plt.figure(figsize=(10, 6))\n",
        "sns.barplot(x='Coefficient', y='Feature', data=coef_df)\n",
        "plt.title(\"Linear Regression Coefficients\")\n",
        "plt.axvline(0, color='gray', linestyle='--')\n",
        "plt.tight_layout()\n",
        "plt.show()"
      ],
      "outputs": []
    }
  ]
}